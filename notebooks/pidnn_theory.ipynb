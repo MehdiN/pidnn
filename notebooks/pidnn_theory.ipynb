{
 "cells": [
  {
   "cell_type": "code",
   "execution_count": 1,
   "metadata": {},
   "outputs": [
    {
     "data": {
      "text/html": [
       "<img src=\"https://molefrog.github.io/pidnn-talk/images/pidnn-system.png\"/>"
      ],
      "text/plain": [
       "<IPython.core.display.Image object>"
      ]
     },
     "metadata": {},
     "output_type": "display_data"
    }
   ],
   "source": [
    "from IPython.display import Image\n",
    "from IPython.core.display import HTML \n",
    "display(Image(url= \"https://molefrog.github.io/pidnn-talk/images/pidnn-system.png\"))"
   ]
  },
  {
   "cell_type": "markdown",
   "metadata": {},
   "source": [
    "## PIDNN Architecture\n",
    "\n",
    "### P Neuron\n",
    "\n",
    "P-neuron transfer function: $$ x(t) = \\begin{cases} -1 & u(t) < -1 \\\\ u(t) & -1 \\le u(t) \\le 1 \\\\ 1 & u(t) > 1 \\end{cases}$$ $u(t)$ — neuron input, $x(t)$ — neuron output \n",
    "\n",
    "### I neuron\n",
    "\n",
    "I-neuron transfer function: $$ x(t) = \\begin{cases} -1 & x(t) < -1 \\\\ x(t-1)+u(t) & -1 \\le x(t) \\le 1 \\\\ 1 & x(t) > 1 \\end{cases}$$ $x(t-1)$ — previous output \n",
    "\n",
    "### D neuron\n",
    "\n",
    "D-neuron transfer function: $$ x(t) = \\begin{cases} -1 & x(t) < -1 \\\\ u(t)-u(t-1) & -1 \\le x(t) \\le 1 \\\\ 1 & x(t) > 1 \\end{cases}$$ $u(t-1)$ — previous input \n",
    "\n",
    "### Cost function\n",
    "\n",
    "The aim of PIDNN controller is to minimize: $$ J = \\sum\\limits_{t=1}^N E_t = \\frac{1}{N} \\sum\\limits_{t=1}^N(r(t) - y(t))^2 $$\n",
    "\n",
    "$r(t)$ — desired system output\n",
    "$y(t)$ — real system output (feedback)\n",
    "$N$ — number of samples\n",
    "\n",
    "### Backward Propagation\n",
    "\n",
    "$$ w_i(n+1) = w_i(n) - \\eta \\frac{\\partial J}{\\partial w_i}$$\n",
    "\n",
    "$$ \\frac{\\partial J}{\\partial w_i} \\approx -\\frac{2}{N} \\sum\\limits_{t=1}^N (r(t) - y(t)) \\frac{y(t)-y(t-1)}{v(t)-v(t-1)} \\dot{x}_i(t) $$ \n",
    "\n",
    "\n",
    " $$ w_{ij}(n+1) = w_{ij}(n) - \\eta \\frac{\\partial J}{\\partial w_{ij}}$$\n",
    " $$ \\frac{\\partial J}{\\partial w_ij} \\approx -\\sum\\limits_{t=1}^N \\delta(t)\\frac{\\dot{x}_j(t)-\\dot{x}_j(t-1)}{\\dot{u}_j(t)-\\dot{u}_j(t-1)} w_j x_i(t) $$ "
   ]
  },
  {
   "cell_type": "markdown",
   "metadata": {},
   "source": [
    "## Non linear model tp control\n",
    "\n",
    "$$\\dot{x} = A(x)x+U$$\n",
    "\n",
    "$$A(x) =\n",
    "\\begin{pmatrix}\n",
    "0 & I_3*x_3 & 0 \\\\\n",
    "0 & 0 & I_1*x_1 \\\\\n",
    "I_2*x_2 & 0 & 0\n",
    "\\end{pmatrix}$$\n",
    "\n",
    "with $U = [u_1 u_2 u_3 u_4]^T$"
   ]
  }
 ],
 "metadata": {
  "kernelspec": {
   "display_name": "Python 3",
   "language": "python",
   "name": "python3"
  },
  "language_info": {
   "codemirror_mode": {
    "name": "ipython",
    "version": 3
   },
   "file_extension": ".py",
   "mimetype": "text/x-python",
   "name": "python",
   "nbconvert_exporter": "python",
   "pygments_lexer": "ipython3",
   "version": "3.7.4"
  }
 },
 "nbformat": 4,
 "nbformat_minor": 4
}
