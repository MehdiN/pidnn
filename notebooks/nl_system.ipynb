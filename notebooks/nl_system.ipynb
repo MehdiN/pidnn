{
 "cells": [
  {
   "cell_type": "markdown",
   "metadata": {},
   "source": [
    "### Non linear system\n",
    "\n",
    "\n",
    "$$I\\cdot\\dot{\\omega} = (I\\cdot\\omega) \\times \\omega + \\tau$$\n",
    "\n",
    "\n",
    "Rewritten as:\n",
    "\n",
    "$$\\dot{x} = A(x)x+u$$\n",
    "\n",
    "$$A(x) =\n",
    "\\begin{pmatrix}\n",
    "0 & I_3*x_3 & 0 \\\\\n",
    "0 & 0 & I_1*x_1 \\\\\n",
    "I_2*x_2 & 0 & 0\n",
    "\\end{pmatrix}$$\n",
    "\n",
    "with $u = [u_1 u_2 u_3]^T$"
   ]
  },
  {
   "cell_type": "code",
   "execution_count": 1,
   "metadata": {},
   "outputs": [],
   "source": [
    "import numpy as np\n",
    "import matplotlib.pyplot as plt\n",
    "import sklearn as sk"
   ]
  },
  {
   "cell_type": "code",
   "execution_count": 117,
   "metadata": {},
   "outputs": [],
   "source": [
    "# Initialize weights and bias\n",
    "\n",
    "def initialize_parameters(n_input,n_output,n_hidden):\n",
    "    parameters = {}\n",
    "    parameters[\"W1\"] = np.random.randn(n_hidden,n_input)\n",
    "    parameters[\"b1\"] = np.zeros((n_hidden,1))\n",
    "    parameters[\"W2\"] = np.random.randn(n_output,n_hiden)\n",
    "    parameters[\"b2\"] = np.zeros((n_output,1))\n",
    "    parameters[\"I\"] = np.zeros((1,1))\n",
    "    parameters[\"D\"] = np.zeros((1,1))\n",
    "    return parameters"
   ]
  },
  {
   "cell_type": "code",
   "execution_count": 118,
   "metadata": {},
   "outputs": [],
   "source": [
    "## activation functions\n",
    "\n",
    "def p_neuron(v):\n",
    "    v[v>= 1] = 1\n",
    "    v[v<=-1] = -1\n",
    "    return v\n",
    "\n",
    "def i_neuron(v,I):\n",
    "    v = v + I\n",
    "    v[v>=1]=1\n",
    "    v[v<=-1]=-1\n",
    "    return v\n",
    "\n",
    "def d_neuron(v,D):\n",
    "    v = v - D\n",
    "    v[v>=1]=1\n",
    "    v[v<=-1]=-1\n",
    "    return D"
   ]
  },
  {
   "cell_type": "code",
   "execution_count": 120,
   "metadata": {},
   "outputs": [],
   "source": [
    "def forward_propagation(X,parameters):\n",
    "    W1 = parameters[\"W1\"]\n",
    "    b1 = parameters[\"b1\"]\n",
    "    W2 = parameters[\"W2\"]\n",
    "    b2 = parameters[\"b2\"]\n",
    "    I  = parameters[\"I\"]\n",
    "    D  = parameters[\"D\"]\n",
    "    \n",
    "    \n",
    "    X= np.reshape(X,(X.shape[1],-1))\n",
    "     \n",
    "    Z1 = np.dot(W1,X)+b1\n",
    "    P = p_neuron(Z1[0])\n",
    "    I = i_neuron(Z1[1],I)\n",
    "    D = d_neuron(Z1[2],D)\n",
    "    A1 = np.concatenate((P,I,D),axis=0)\n",
    "    A1 = A1.reshape(A1.shape[0],-1)\n",
    "    Z2 = np.dot(W1,A1)+b2\n",
    "    A2 = p_neuron(Z2)\n",
    "    \n",
    "    cache = {\"Z1\": Z1,\n",
    "             \"A1\": A1,\n",
    "             \"Z2\": Z2,\n",
    "             \"A2\": A2,\n",
    "             \"I\": I,\n",
    "             \"D\": D}\n",
    "    \n",
    "    return cache"
   ]
  },
  {
   "cell_type": "code",
   "execution_count": 121,
   "metadata": {},
   "outputs": [],
   "source": [
    "## Compute cost\n",
    "\n",
    "def compute_cost(A2,Y):\n",
    "    m=Y.shape[1]\n",
    "    J = 1/m * np.dot((A2 - Y),(A2-Y).T)"
   ]
  },
  {
   "cell_type": "code",
   "execution_count": 92,
   "metadata": {},
   "outputs": [
    {
     "data": {
      "text/plain": [
       "array([array([0.03882794]), array([-0.02805731]), 0], dtype=object)"
      ]
     },
     "execution_count": 92,
     "metadata": {},
     "output_type": "execute_result"
    }
   ],
   "source": [
    "def compute_cost(A2,Y):\n",
    "    m=Y.shape[1]\n",
    "    J = 1/m * np.dot((A2 - Y),(A2-Y).T)"
   ]
  },
  {
   "cell_type": "code",
   "execution_count": 115,
   "metadata": {},
   "outputs": [],
   "source": [
    "# backprop\n",
    "\n",
    "def back_pneuron():\n",
    "    pass\n",
    "\n",
    "def back_ineuron():\n",
    "    pass\n",
    "\n",
    "def bac_dneuron():\n",
    "    pass\n"
   ]
  },
  {
   "cell_type": "code",
   "execution_count": 3,
   "metadata": {},
   "outputs": [
    {
     "name": "stdout",
     "output_type": "stream",
     "text": [
      "[[0. 0. 0.]\n",
      " [0. 0. 0.]\n",
      " [0. 0. 0.]]\n"
     ]
    }
   ],
   "source": [
    "A = np.zeros((3,3))\n",
    "print(A)"
   ]
  },
  {
   "cell_type": "code",
   "execution_count": 5,
   "metadata": {},
   "outputs": [],
   "source": [
    "A[0,1] = 5"
   ]
  },
  {
   "cell_type": "code",
   "execution_count": 9,
   "metadata": {},
   "outputs": [],
   "source": [
    "x = np.random.rand(3,1)"
   ]
  },
  {
   "cell_type": "code",
   "execution_count": 14,
   "metadata": {},
   "outputs": [
    {
     "data": {
      "text/plain": [
       "array([0.46597732])"
      ]
     },
     "execution_count": 14,
     "metadata": {},
     "output_type": "execute_result"
    }
   ],
   "source": [
    "x[1][0]"
   ]
  },
  {
   "cell_type": "code",
   "execution_count": null,
   "metadata": {},
   "outputs": [],
   "source": []
  }
 ],
 "metadata": {
  "kernelspec": {
   "display_name": "Python 3",
   "language": "python",
   "name": "python3"
  },
  "language_info": {
   "codemirror_mode": {
    "name": "ipython",
    "version": 3
   },
   "file_extension": ".py",
   "mimetype": "text/x-python",
   "name": "python",
   "nbconvert_exporter": "python",
   "pygments_lexer": "ipython3",
   "version": "3.7.4"
  }
 },
 "nbformat": 4,
 "nbformat_minor": 4
}
